{
 "cells": [
  {
   "cell_type": "code",
   "execution_count": 1,
   "metadata": {},
   "outputs": [],
   "source": [
    "import librariesImport\n",
    "import gedlibpy\n",
    "import networkx as nx\n",
    "import numpy as np\n",
    "from torch_geometric.datasets import TUDataset\n",
    "from torch_geometric.utils import to_networkx\n",
    "from torch_geometric.utils import from_networkx\n",
    "import functools\n",
    "from tqdm import tqdm\n",
    "import random\n",
    "import time\n",
    "import os\n",
    "import torch\n",
    "from multiprocessing import Pool\n",
    "from matplotlib import pyplot as plt\n",
    "from torch_geometric.datasets import Planetoid"
   ]
  },
  {
   "cell_type": "code",
   "execution_count": 2,
   "metadata": {},
   "outputs": [
    {
     "data": {
      "text/plain": [
       "<torch._C.Generator at 0x7f40bb24ea50>"
      ]
     },
     "execution_count": 2,
     "metadata": {},
     "output_type": "execute_result"
    }
   ],
   "source": [
    "random.seed(0)\n",
    "np.random.seed(0)\n",
    "torch.manual_seed(0)"
   ]
  },
  {
   "cell_type": "code",
   "execution_count": 3,
   "metadata": {},
   "outputs": [],
   "source": [
    "\n",
    "# Filter graphs with more than max_num_nodes nodes\n",
    "max_num_nodes = 20\n",
    "NUM_WORKER = 16\n"
   ]
  },
  {
   "cell_type": "code",
   "execution_count": 25,
   "metadata": {},
   "outputs": [],
   "source": [
    "# Utils\n",
    "\n",
    "def set_x(data_obj):\n",
    "    data_obj.x = torch.ones(data_obj.num_nodes, 1)\n",
    "    return data_obj\n",
    "\n",
    "def node_match(n1, n2):\n",
    "    return np.argmax(n1['x']) == np.argmax(n2['x'])"
   ]
  },
  {
   "cell_type": "markdown",
   "metadata": {},
   "source": [
    "# AIDS / IMDB / PROTEINS"
   ]
  },
  {
   "cell_type": "code",
   "execution_count": 231,
   "metadata": {},
   "outputs": [],
   "source": [
    "DATASET = 'PROTEINS'\n",
    "node_labeled = False\n",
    "random.seed(0)\n",
    "data_path = './data/'+ DATASET + '/'\n",
    "if not os.path.isdir(data_path):\n",
    "    os.mkdir(data_path)\n",
    "\n",
    "# Load dataset\n",
    "data = TUDataset('./',DATASET)\n",
    "\n",
    "# Uncomment the following line when generating graph with no node label\n",
    "# Filter graphs with more than max_num_nodes nodes\n",
    "data = list(filter(lambda x: x.num_nodes <= max_num_nodes, data))\n",
    "print(f\"Graphs with at most {max_num_nodes} nodes: {len(data)}\")\n",
    "\n",
    "new_data = data\n",
    "if not node_labeled:\n",
    "    new_data = list(map(set_x, data))\n",
    "graphs = list(map(functools.partial(to_networkx, to_undirected=True, node_attrs = ['x']), new_data))\n",
    "print(\"Total number of graphs in the dataset: \", len(graphs))\n",
    "\n"
   ]
  },
  {
   "cell_type": "code",
   "execution_count": 207,
   "metadata": {},
   "outputs": [
    {
     "data": {
      "text/plain": [
       "{'x': [1.0]}"
      ]
     },
     "execution_count": 207,
     "metadata": {},
     "output_type": "execute_result"
    }
   ],
   "source": [
    "graphs[0].nodes[0]"
   ]
  },
  {
   "cell_type": "code",
   "execution_count": 208,
   "metadata": {},
   "outputs": [
    {
     "data": {
      "text/plain": [
       "tensor([0, 0, 0, 0, 0, 0, 0, 0, 0, 0])"
      ]
     },
     "execution_count": 208,
     "metadata": {},
     "output_type": "execute_result"
    }
   ],
   "source": [
    "data[0].x.argmax(dim = -1)"
   ]
  },
  {
   "cell_type": "code",
   "execution_count": 211,
   "metadata": {},
   "outputs": [
    {
     "name": "stdout",
     "output_type": "stream",
     "text": [
      "Filtering isomorphic graphs...\n"
     ]
    },
    {
     "name": "stderr",
     "output_type": "stream",
     "text": [
      "100%|██████████| 411/411 [00:00<00:00, 1204.23it/s]"
     ]
    },
    {
     "name": "stdout",
     "output_type": "stream",
     "text": [
      "Total number of non-isomorphic graphs: 304\n"
     ]
    },
    {
     "name": "stderr",
     "output_type": "stream",
     "text": [
      "\n"
     ]
    }
   ],
   "source": [
    "\n",
    "# Filter Isomorphic graphs using nx.is_isomorphic\n",
    "non_iso_graphs = [graphs[0]]\n",
    "\n",
    "if node_labeled:\n",
    "    node_match_fun = node_match\n",
    "else:\n",
    "    node_match_fun = None\n",
    "\n",
    "print(\"Filtering isomorphic graphs...\")\n",
    "for i in tqdm(range(1, len(graphs))):\n",
    "    for j in range(len(non_iso_graphs)):\n",
    "        if nx.is_isomorphic(graphs[i], graphs[j], node_match=node_match_fun):\n",
    "            #print(\"Graph \", i, \" is isomorphic to graph \", j)\n",
    "            break\n",
    "    else:\n",
    "        #print(\"Including graph \", i, \" in non_iso_graphs\")\n",
    "        non_iso_graphs.append(graphs[i])\n",
    "print(f\"Total number of non-isomorphic graphs: {len(non_iso_graphs)}\")"
   ]
  },
  {
   "cell_type": "code",
   "execution_count": 214,
   "metadata": {},
   "outputs": [
    {
     "name": "stdout",
     "output_type": "stream",
     "text": [
      "Maximum number of nodes in the dataset: 20\n"
     ]
    }
   ],
   "source": [
    "size = list(map(lambda x: x.number_of_nodes(), non_iso_graphs))\n",
    "max_size = max(size)\n",
    "print(f\"Maximum number of nodes in the dataset: {max_size}\")"
   ]
  },
  {
   "cell_type": "code",
   "execution_count": 212,
   "metadata": {},
   "outputs": [
    {
     "name": "stdout",
     "output_type": "stream",
     "text": [
      "Train: 182, Val: 60, Test: 62\n",
      "saved PROTEINS into ./data/PROTEINS/train.pt\n",
      "saved PROTEINS into ./data/PROTEINS/val.pt\n",
      "saved PROTEINS into ./data/PROTEINS/test.pt\n"
     ]
    }
   ],
   "source": [
    "random.shuffle(non_iso_graphs)    # Shuffle the list of graphs\n",
    "train_size = int(0.6*len(non_iso_graphs))\n",
    "val_size = int(0.2*len(non_iso_graphs))\n",
    "test_size = len(non_iso_graphs) - train_size - val_size\n",
    "\n",
    "train_graphs = non_iso_graphs[:train_size]\n",
    "val_graphs = non_iso_graphs[train_size:train_size+val_size]\n",
    "test_graphs = non_iso_graphs[train_size+val_size:]\n",
    "print(f\"Train: {len(train_graphs)}, Val: {len(val_graphs)}, Test: {len(test_graphs)}\")\n",
    "\n",
    "\n",
    "# Dump Non-isomorphic Graphs \n",
    "train_data = []\n",
    "for graph in train_graphs:\n",
    "    data = from_networkx(graph)\n",
    "    train_data.append(data)\n",
    "torch.save(train_data, data_path + \"train.pt\")\n",
    "print(f\"saved {DATASET} into {data_path}train.pt\")\n",
    "\n",
    "val_data = []\n",
    "for graph in val_graphs:\n",
    "    data = from_networkx(graph)\n",
    "    val_data.append(data)\n",
    "torch.save(val_data, data_path + \"val.pt\")\n",
    "print(f\"saved {DATASET} into {data_path}val.pt\")\n",
    "\n",
    "test_data = []\n",
    "for graph in test_graphs:\n",
    "    data = from_networkx(graph)\n",
    "    test_data.append(data)\n",
    "torch.save(test_data, data_path + \"test.pt\")\n",
    "print(f\"saved {DATASET} into {data_path}test.pt\")\n",
    "\n"
   ]
  },
  {
   "cell_type": "code",
   "execution_count": 37,
   "metadata": {},
   "outputs": [
    {
     "data": {
      "text/plain": [
       "223"
      ]
     },
     "execution_count": 37,
     "metadata": {},
     "output_type": "execute_result"
    }
   ],
   "source": [
    "train_data = torch.load(data_path + \"train.pt\")\n",
    "len(train_data)"
   ]
  },
  {
   "cell_type": "code",
   "execution_count": 39,
   "metadata": {},
   "outputs": [],
   "source": [
    "dummy = [train_data[:3]]\n",
    "torch.save(dummy, \"dummy.pt\")"
   ]
  },
  {
   "cell_type": "code",
   "execution_count": 52,
   "metadata": {},
   "outputs": [
    {
     "data": {
      "text/plain": [
       "223"
      ]
     },
     "execution_count": 52,
     "metadata": {},
     "output_type": "execute_result"
    }
   ],
   "source": [
    "sample = list(filter(lambda x: x.num_nodes <= 20, train_data))\n",
    "len(sample)"
   ]
  },
  {
   "cell_type": "code",
   "execution_count": 51,
   "metadata": {},
   "outputs": [],
   "source": [
    "torch.save(sample[:3], \"dummy2.pt\")"
   ]
  },
  {
   "cell_type": "code",
   "execution_count": 58,
   "metadata": {},
   "outputs": [
    {
     "data": {
      "text/plain": [
       "(array([30., 30., 27., 33.,  0., 20., 22., 22., 25., 14.]),\n",
       " array([12. , 12.8, 13.6, 14.4, 15.2, 16. , 16.8, 17.6, 18.4, 19.2, 20. ]),\n",
       " <BarContainer object of 10 artists>)"
      ]
     },
     "execution_count": 58,
     "metadata": {},
     "output_type": "execute_result"
    },
    {
     "data": {
      "image/png": "[encoded data removed]",
      "text/plain": [
       "<Figure size 640x480 with 1 Axes>"
      ]
     },
     "metadata": {},
     "output_type": "display_data"
    }
   ],
   "source": [
    "sizes = list(map(lambda x: x.num_nodes, train_data))\n",
    "plt.hist(sizes)"
   ]
  },
  {
   "cell_type": "code",
   "execution_count": 61,
   "metadata": {},
   "outputs": [
    {
     "data": {
      "text/plain": [
       "(array([12., 10.,  9.,  9.,  0.,  8.,  6.,  9.,  7.,  4.]),\n",
       " array([12. , 12.8, 13.6, 14.4, 15.2, 16. , 16.8, 17.6, 18.4, 19.2, 20. ]),\n",
       " <BarContainer object of 10 artists>)"
      ]
     },
     "execution_count": 61,
     "metadata": {},
     "output_type": "execute_result"
    },
    {
     "data": {
      "image/png": "[encoded data removed]",
      "text/plain": [
       "<Figure size 640x480 with 1 Axes>"
      ]
     },
     "metadata": {},
     "output_type": "display_data"
    }
   ],
   "source": [
    "sizes = list(map(lambda x: x.num_nodes, val_data))\n",
    "plt.hist(sizes)"
   ]
  },
  {
   "cell_type": "code",
   "execution_count": 62,
   "metadata": {},
   "outputs": [
    {
     "data": {
      "text/plain": [
       "(array([ 4., 13.,  6., 13.,  0.,  9.,  5., 10., 10.,  5.]),\n",
       " array([12. , 12.8, 13.6, 14.4, 15.2, 16. , 16.8, 17.6, 18.4, 19.2, 20. ]),\n",
       " <BarContainer object of 10 artists>)"
      ]
     },
     "execution_count": 62,
     "metadata": {},
     "output_type": "execute_result"
    },
    {
     "data": {
      "image/png": "[encoded data removed]",
      "text/plain": [
       "<Figure size 640x480 with 1 Axes>"
      ]
     },
     "metadata": {},
     "output_type": "display_data"
    }
   ],
   "source": [
    "sizes = list(map(lambda x: x.num_nodes, test_data))\n",
    "plt.hist(sizes)"
   ]
  },
  {
   "cell_type": "markdown",
   "metadata": {},
   "source": [
    "# LINUX"
   ]
  },
  {
   "cell_type": "code",
   "execution_count": 103,
   "metadata": {},
   "outputs": [],
   "source": [
    "parent_folder = './LINUX/'\n",
    "node_labeled = False"
   ]
  },
  {
   "cell_type": "code",
   "execution_count": 104,
   "metadata": {},
   "outputs": [],
   "source": [
    "data_path = './data/LINUX/'\n",
    "if not os.path.isdir(data_path):\n",
    "    os.mkdir(data_path)"
   ]
  },
  {
   "cell_type": "code",
   "execution_count": 134,
   "metadata": {},
   "outputs": [
    {
     "name": "stdout",
     "output_type": "stream",
     "text": [
      "Total number of graphs from LINUX: 1000\n"
     ]
    }
   ],
   "source": [
    "graph_list = []\n",
    "\n",
    "data_src = os.path.join(parent_folder, 'train/')\n",
    "file_list = os.listdir(data_src)\n",
    "gexf_files = [file for file in file_list if file.endswith('.gexf')]\n",
    "\n",
    "# Read the .gexf files into a list of NetworkX objects\n",
    "\n",
    "for file in gexf_files:\n",
    "    file_path = os.path.join(data_src, file)\n",
    "    graph = nx.read_gexf(file_path, node_type=int)\n",
    "    graph_list.append(graph)\n",
    "\n",
    "data_src = os.path.join(parent_folder, 'test/')\n",
    "file_list = os.listdir(data_src)\n",
    "gexf_files = [file for file in file_list if file.endswith('.gexf')]\n",
    "\n",
    "for file in gexf_files:\n",
    "    file_path = os.path.join(data_src, file)\n",
    "    graph = nx.read_gexf(file_path, node_type=int)\n",
    "    graph_list.append(graph)\n",
    "\n",
    "# Print the number of graphs read\n",
    "print(f\"Total number of graphs from LINUX: {len(graph_list)}\")\n",
    "\n",
    "\n"
   ]
  },
  {
   "cell_type": "code",
   "execution_count": 135,
   "metadata": {},
   "outputs": [
    {
     "data": {
      "text/plain": [
       "(array([ 11.,  71.,   0., 182.,   0., 250., 198.,   0., 125., 163.]),\n",
       " array([ 4. ,  4.6,  5.2,  5.8,  6.4,  7. ,  7.6,  8.2,  8.8,  9.4, 10. ]),\n",
       " <BarContainer object of 10 artists>)"
      ]
     },
     "execution_count": 135,
     "metadata": {},
     "output_type": "execute_result"
    },
    {
     "data": {
      "image/png": "[encoded data removed]",
      "text/plain": [
       "<Figure size 640x480 with 1 Axes>"
      ]
     },
     "metadata": {},
     "output_type": "display_data"
    }
   ],
   "source": [
    "sizes = list(map(lambda x: x.number_of_nodes(), graph_list))\n",
    "plt.hist(sizes)"
   ]
  },
  {
   "cell_type": "code",
   "execution_count": 136,
   "metadata": {},
   "outputs": [
    {
     "name": "stdout",
     "output_type": "stream",
     "text": [
      "Graphs with at most 20 nodes: 1000\n"
     ]
    }
   ],
   "source": [
    "# Filter graphs with more than max_num_nodes nodes\n",
    "graphs = list(filter(lambda x: x.number_of_nodes() <= max_num_nodes, graph_list))\n",
    "print(f\"Graphs with at most {max_num_nodes} nodes: {len(graphs)}\")"
   ]
  },
  {
   "cell_type": "code",
   "execution_count": 138,
   "metadata": {},
   "outputs": [
    {
     "name": "stderr",
     "output_type": "stream",
     "text": [
      "100%|██████████| 1000/1000 [00:00<00:00, 122225.90it/s]\n"
     ]
    }
   ],
   "source": [
    "\n",
    "# Remove default 'label' attribute from the nodes\n",
    "# Add a new attribute 'x' to the nodes\n",
    "\n",
    "for i in tqdm(range(len(graph_list))):\n",
    "    for node_detail in list(graph_list[i].nodes(data=True)):\n",
    "        node_id = node_detail[0]\n",
    "        del graph_list[i].nodes[node_id]['label']\n",
    "        graph_list[i].nodes[node_id]['x'] = [1.0]\n",
    "\n",
    "\n"
   ]
  },
  {
   "cell_type": "code",
   "execution_count": 139,
   "metadata": {},
   "outputs": [
    {
     "data": {
      "text/plain": [
       "[(0, {'x': [1.0]}),\n",
       " (1, {'x': [1.0]}),\n",
       " (2, {'x': [1.0]}),\n",
       " (3, {'x': [1.0]}),\n",
       " (4, {'x': [1.0]}),\n",
       " (5, {'x': [1.0]}),\n",
       " (6, {'x': [1.0]}),\n",
       " (7, {'x': [1.0]}),\n",
       " (8, {'x': [1.0]})]"
      ]
     },
     "execution_count": 139,
     "metadata": {},
     "output_type": "execute_result"
    }
   ],
   "source": [
    "list(graph_list[4].nodes(data=True))"
   ]
  },
  {
   "cell_type": "code",
   "execution_count": 140,
   "metadata": {},
   "outputs": [
    {
     "name": "stdout",
     "output_type": "stream",
     "text": [
      "Filtering isomorphic graphs...\n"
     ]
    },
    {
     "name": "stderr",
     "output_type": "stream",
     "text": [
      "100%|██████████| 999/999 [00:00<00:00, 2477.09it/s]"
     ]
    },
    {
     "name": "stdout",
     "output_type": "stream",
     "text": [
      "Total number of non-isomorphic graphs: 191\n"
     ]
    },
    {
     "name": "stderr",
     "output_type": "stream",
     "text": [
      "\n"
     ]
    }
   ],
   "source": [
    "\n",
    "# Filter Isomorphic graphs using nx.is_isomorphic\n",
    "non_iso_graphs = [graphs[0]]\n",
    "\n",
    "print(\"Filtering isomorphic graphs...\")\n",
    "for i in tqdm(range(1, len(graphs))):\n",
    "    for j in range(len(non_iso_graphs)):\n",
    "        if nx.is_isomorphic(graphs[i], graphs[j], node_match=node_match):\n",
    "            #print(\"Graph \", i, \" is isomorphic to graph \", j)\n",
    "            break\n",
    "    else:\n",
    "        #print(\"Including graph \", i, \" in non_iso_graphs\")\n",
    "        non_iso_graphs.append(graphs[i])\n",
    "print(f\"Total number of non-isomorphic graphs: {len(non_iso_graphs)}\")"
   ]
  },
  {
   "cell_type": "code",
   "execution_count": 141,
   "metadata": {},
   "outputs": [
    {
     "name": "stdout",
     "output_type": "stream",
     "text": [
      "Train: 114, Val: 38, Test: 39\n",
      "saved IMDB-BINARY into ./data/LINUX/train.pt\n",
      "saved IMDB-BINARY into ./data/LINUX/val.pt\n",
      "saved IMDB-BINARY into ./data/LINUX/test.pt\n"
     ]
    }
   ],
   "source": [
    "random.shuffle(non_iso_graphs)    # Shuffle the list of graphs\n",
    "train_size = int(0.6*len(non_iso_graphs))\n",
    "val_size = int(0.2*len(non_iso_graphs))\n",
    "test_size = len(non_iso_graphs) - train_size - val_size\n",
    "\n",
    "train_graphs = non_iso_graphs[:train_size]\n",
    "val_graphs = non_iso_graphs[train_size:train_size+val_size]\n",
    "test_graphs = non_iso_graphs[train_size+val_size:]\n",
    "print(f\"Train: {len(train_graphs)}, Val: {len(val_graphs)}, Test: {len(test_graphs)}\")\n",
    "\n",
    "\n",
    "# Dump Non-isomorphic Graphs \n",
    "train_data = []\n",
    "for graph in train_graphs:\n",
    "    data = from_networkx(graph)\n",
    "    train_data.append(data)\n",
    "torch.save(train_data, data_path + \"train.pt\")\n",
    "print(f\"saved {DATASET} into {data_path}train.pt\")\n",
    "\n",
    "val_data = []\n",
    "for graph in val_graphs:\n",
    "    data = from_networkx(graph)\n",
    "    val_data.append(data)\n",
    "torch.save(val_data, data_path + \"val.pt\")\n",
    "print(f\"saved {DATASET} into {data_path}val.pt\")\n",
    "\n",
    "test_data = []\n",
    "for graph in test_graphs:\n",
    "    data = from_networkx(graph)\n",
    "    test_data.append(data)\n",
    "torch.save(test_data, data_path + \"test.pt\")\n",
    "print(f\"saved {DATASET} into {data_path}test.pt\")\n"
   ]
  },
  {
   "cell_type": "markdown",
   "metadata": {},
   "source": [
    "# OBGA"
   ]
  },
  {
   "cell_type": "code",
   "execution_count": 5,
   "metadata": {},
   "outputs": [],
   "source": [
    "from ogb.graphproppred import PygGraphPropPredDataset\n",
    "from torch_geometric.data import DataLoader\n"
   ]
  },
  {
   "cell_type": "code",
   "execution_count": 18,
   "metadata": {},
   "outputs": [],
   "source": [
    "DATASET = 'ogbg-code2'\n",
    "random.seed(0)\n",
    "dataset = PygGraphPropPredDataset(name = DATASET) "
   ]
  },
  {
   "cell_type": "code",
   "execution_count": 7,
   "metadata": {},
   "outputs": [
    {
     "data": {
      "text/plain": [
       "452741"
      ]
     },
     "execution_count": 7,
     "metadata": {},
     "output_type": "execute_result"
    }
   ],
   "source": [
    "len(dataset)"
   ]
  },
  {
   "cell_type": "code",
   "execution_count": 12,
   "metadata": {},
   "outputs": [
    {
     "data": {
      "text/plain": [
       "Data(edge_index=[2, 243], x=[244, 2], node_is_attributed=[244, 1], node_dfs_order=[244, 1], node_depth=[244, 1], y=[1], num_nodes=244)"
      ]
     },
     "execution_count": 12,
     "metadata": {},
     "output_type": "execute_result"
    }
   ],
   "source": [
    "dataset[0]"
   ]
  },
  {
   "cell_type": "code",
   "execution_count": 10,
   "metadata": {},
   "outputs": [],
   "source": [
    "node_labeled = True\n",
    "\n",
    "data_path = './data/'+ DATASET + '/'\n",
    "if not os.path.isdir(data_path):\n",
    "    os.mkdir(data_path)\n"
   ]
  },
  {
   "cell_type": "code",
   "execution_count": 16,
   "metadata": {},
   "outputs": [
    {
     "ename": "KeyboardInterrupt",
     "evalue": "",
     "output_type": "error",
     "traceback": [
      "\u001b[0;31m---------------------------------------------------------------------------\u001b[0m",
      "\u001b[0;31mKeyboardInterrupt\u001b[0m                         Traceback (most recent call last)",
      "Cell \u001b[0;32mIn[16], line 2\u001b[0m\n\u001b[1;32m      1\u001b[0m \u001b[38;5;66;03m# Filter graphs with more than max_num_nodes nodes\u001b[39;00m\n\u001b[0;32m----> 2\u001b[0m dataset \u001b[38;5;241m=\u001b[39m \u001b[38;5;28mlist\u001b[39m(\u001b[38;5;28mfilter\u001b[39m(\u001b[38;5;28;01mlambda\u001b[39;00m x: x\u001b[38;5;241m.\u001b[39mnum_nodes \u001b[38;5;241m<\u001b[39m\u001b[38;5;241m=\u001b[39m max_num_nodes, dataset))\n\u001b[1;32m      3\u001b[0m \u001b[38;5;28mprint\u001b[39m(\u001b[38;5;124mf\u001b[39m\u001b[38;5;124m\"\u001b[39m\u001b[38;5;124mGraphs with at most \u001b[39m\u001b[38;5;132;01m{\u001b[39;00mmax_num_nodes\u001b[38;5;132;01m}\u001b[39;00m\u001b[38;5;124m nodes: \u001b[39m\u001b[38;5;132;01m{\u001b[39;00m\u001b[38;5;28mlen\u001b[39m(dataset)\u001b[38;5;132;01m}\u001b[39;00m\u001b[38;5;124m\"\u001b[39m)\n",
      "File \u001b[0;32m~/miniconda3/envs/GED/lib/python3.12/site-packages/torch_geometric/data/dataset.py:263\u001b[0m, in \u001b[0;36mDataset.__getitem__\u001b[0;34m(self, idx)\u001b[0m\n\u001b[1;32m    253\u001b[0m \u001b[38;5;250m\u001b[39m\u001b[38;5;124mr\u001b[39m\u001b[38;5;124;03m\"\"\"In case :obj:`idx` is of type integer, will return the data object\u001b[39;00m\n\u001b[1;32m    254\u001b[0m \u001b[38;5;124;03mat index :obj:`idx` (and transforms it in case :obj:`transform` is\u001b[39;00m\n\u001b[1;32m    255\u001b[0m \u001b[38;5;124;03mpresent).\u001b[39;00m\n\u001b[1;32m    256\u001b[0m \u001b[38;5;124;03mIn case :obj:`idx` is a slicing object, *e.g.*, :obj:`[2:5]`, a list, a\u001b[39;00m\n\u001b[1;32m    257\u001b[0m \u001b[38;5;124;03mtuple, or a :obj:`torch.Tensor` or :obj:`np.ndarray` of type long or\u001b[39;00m\n\u001b[1;32m    258\u001b[0m \u001b[38;5;124;03mbool, will return a subset of the dataset at the specified indices.\"\"\"\u001b[39;00m\n\u001b[1;32m    259\u001b[0m \u001b[38;5;28;01mif\u001b[39;00m (\u001b[38;5;28misinstance\u001b[39m(idx, (\u001b[38;5;28mint\u001b[39m, np\u001b[38;5;241m.\u001b[39minteger))\n\u001b[1;32m    260\u001b[0m         \u001b[38;5;129;01mor\u001b[39;00m (\u001b[38;5;28misinstance\u001b[39m(idx, Tensor) \u001b[38;5;129;01mand\u001b[39;00m idx\u001b[38;5;241m.\u001b[39mdim() \u001b[38;5;241m==\u001b[39m \u001b[38;5;241m0\u001b[39m)\n\u001b[1;32m    261\u001b[0m         \u001b[38;5;129;01mor\u001b[39;00m (\u001b[38;5;28misinstance\u001b[39m(idx, np\u001b[38;5;241m.\u001b[39mndarray) \u001b[38;5;129;01mand\u001b[39;00m np\u001b[38;5;241m.\u001b[39misscalar(idx))):\n\u001b[0;32m--> 263\u001b[0m     data \u001b[38;5;241m=\u001b[39m \u001b[38;5;28mself\u001b[39m\u001b[38;5;241m.\u001b[39mget(\u001b[38;5;28mself\u001b[39m\u001b[38;5;241m.\u001b[39mindices()[idx])\n\u001b[1;32m    264\u001b[0m     data \u001b[38;5;241m=\u001b[39m data \u001b[38;5;28;01mif\u001b[39;00m \u001b[38;5;28mself\u001b[39m\u001b[38;5;241m.\u001b[39mtransform \u001b[38;5;129;01mis\u001b[39;00m \u001b[38;5;28;01mNone\u001b[39;00m \u001b[38;5;28;01melse\u001b[39;00m \u001b[38;5;28mself\u001b[39m\u001b[38;5;241m.\u001b[39mtransform(data)\n\u001b[1;32m    265\u001b[0m     \u001b[38;5;28;01mreturn\u001b[39;00m data\n",
      "File \u001b[0;32m~/miniconda3/envs/GED/lib/python3.12/site-packages/torch_geometric/data/in_memory_dataset.py:104\u001b[0m, in \u001b[0;36mInMemoryDataset.get\u001b[0;34m(self, idx)\u001b[0m\n\u001b[1;32m    101\u001b[0m \u001b[38;5;28;01melif\u001b[39;00m \u001b[38;5;28mself\u001b[39m\u001b[38;5;241m.\u001b[39m_data_list[idx] \u001b[38;5;129;01mis\u001b[39;00m \u001b[38;5;129;01mnot\u001b[39;00m \u001b[38;5;28;01mNone\u001b[39;00m:\n\u001b[1;32m    102\u001b[0m     \u001b[38;5;28;01mreturn\u001b[39;00m copy\u001b[38;5;241m.\u001b[39mcopy(\u001b[38;5;28mself\u001b[39m\u001b[38;5;241m.\u001b[39m_data_list[idx])\n\u001b[0;32m--> 104\u001b[0m data \u001b[38;5;241m=\u001b[39m separate(\n\u001b[1;32m    105\u001b[0m     \u001b[38;5;28mcls\u001b[39m\u001b[38;5;241m=\u001b[39m\u001b[38;5;28mself\u001b[39m\u001b[38;5;241m.\u001b[39m_data\u001b[38;5;241m.\u001b[39m\u001b[38;5;18m__class__\u001b[39m,\n\u001b[1;32m    106\u001b[0m     batch\u001b[38;5;241m=\u001b[39m\u001b[38;5;28mself\u001b[39m\u001b[38;5;241m.\u001b[39m_data,\n\u001b[1;32m    107\u001b[0m     idx\u001b[38;5;241m=\u001b[39midx,\n\u001b[1;32m    108\u001b[0m     slice_dict\u001b[38;5;241m=\u001b[39m\u001b[38;5;28mself\u001b[39m\u001b[38;5;241m.\u001b[39mslices,\n\u001b[1;32m    109\u001b[0m     decrement\u001b[38;5;241m=\u001b[39m\u001b[38;5;28;01mFalse\u001b[39;00m,\n\u001b[1;32m    110\u001b[0m )\n\u001b[1;32m    112\u001b[0m \u001b[38;5;28mself\u001b[39m\u001b[38;5;241m.\u001b[39m_data_list[idx] \u001b[38;5;241m=\u001b[39m copy\u001b[38;5;241m.\u001b[39mcopy(data)\n\u001b[1;32m    114\u001b[0m \u001b[38;5;28;01mreturn\u001b[39;00m data\n",
      "File \u001b[0;32m~/miniconda3/envs/GED/lib/python3.12/site-packages/torch_geometric/data/separate.py:38\u001b[0m, in \u001b[0;36mseparate\u001b[0;34m(cls, batch, idx, slice_dict, inc_dict, decrement)\u001b[0m\n\u001b[1;32m     36\u001b[0m         slices \u001b[38;5;241m=\u001b[39m slice_dict[attr]\n\u001b[1;32m     37\u001b[0m         incs \u001b[38;5;241m=\u001b[39m inc_dict[attr] \u001b[38;5;28;01mif\u001b[39;00m decrement \u001b[38;5;28;01melse\u001b[39;00m \u001b[38;5;28;01mNone\u001b[39;00m\n\u001b[0;32m---> 38\u001b[0m     data_store[attr] \u001b[38;5;241m=\u001b[39m _separate(attr, batch_store[attr], idx, slices,\n\u001b[1;32m     39\u001b[0m                                  incs, batch, batch_store, decrement)\n\u001b[1;32m     41\u001b[0m \u001b[38;5;66;03m# The `num_nodes` attribute needs special treatment, as we cannot infer\u001b[39;00m\n\u001b[1;32m     42\u001b[0m \u001b[38;5;66;03m# the real number of nodes from the total number of nodes alone:\u001b[39;00m\n\u001b[1;32m     43\u001b[0m \u001b[38;5;28;01mif\u001b[39;00m \u001b[38;5;28mhasattr\u001b[39m(batch_store, \u001b[38;5;124m'\u001b[39m\u001b[38;5;124m_num_nodes\u001b[39m\u001b[38;5;124m'\u001b[39m):\n",
      "File \u001b[0;32m~/miniconda3/envs/GED/lib/python3.12/site-packages/torch_geometric/data/separate.py:65\u001b[0m, in \u001b[0;36m_separate\u001b[0;34m(key, value, idx, slices, incs, batch, store, decrement)\u001b[0m\n\u001b[1;32m     63\u001b[0m key \u001b[38;5;241m=\u001b[39m \u001b[38;5;28mstr\u001b[39m(key)\n\u001b[1;32m     64\u001b[0m cat_dim \u001b[38;5;241m=\u001b[39m batch\u001b[38;5;241m.\u001b[39m__cat_dim__(key, value, store)\n\u001b[0;32m---> 65\u001b[0m start, end \u001b[38;5;241m=\u001b[39m \u001b[38;5;28mint\u001b[39m(slices[idx]), \u001b[38;5;28mint\u001b[39m(slices[idx \u001b[38;5;241m+\u001b[39m \u001b[38;5;241m1\u001b[39m])\n\u001b[1;32m     66\u001b[0m value \u001b[38;5;241m=\u001b[39m narrow(value, cat_dim \u001b[38;5;129;01mor\u001b[39;00m \u001b[38;5;241m0\u001b[39m, start, end \u001b[38;5;241m-\u001b[39m start)\n\u001b[1;32m     67\u001b[0m value \u001b[38;5;241m=\u001b[39m value\u001b[38;5;241m.\u001b[39msqueeze(\u001b[38;5;241m0\u001b[39m) \u001b[38;5;28;01mif\u001b[39;00m cat_dim \u001b[38;5;129;01mis\u001b[39;00m \u001b[38;5;28;01mNone\u001b[39;00m \u001b[38;5;28;01melse\u001b[39;00m value\n",
      "\u001b[0;31mKeyboardInterrupt\u001b[0m: "
     ]
    }
   ],
   "source": [
    "# Comment this cell for OGBA-CODE2 and uncomment next one\n",
    "\n",
    "# # Filter graphs with more than max_num_nodes nodes\n",
    "# dataset = list(filter(lambda x: x.num_nodes <= max_num_nodes, dataset))\n",
    "# print(f\"Graphs with at most {max_num_nodes} nodes: {len(dataset)}\")\n",
    "\n",
    "# new_data = dataset\n",
    "# if not node_labeled:\n",
    "#     new_data = list(map(set_x, dataset))\n",
    "    \n",
    "# graphs = list(map(functools.partial(to_networkx, to_undirected=True, node_attrs = ['x']), new_data))\n",
    "# print(\"Total number of graphs in the dataset: \", len(graphs))\n"
   ]
  },
  {
   "cell_type": "code",
   "execution_count": 28,
   "metadata": {},
   "outputs": [
    {
     "name": "stderr",
     "output_type": "stream",
     "text": [
      "100%|██████████| 452741/452741 [00:05<00:00, 86904.64it/s]"
     ]
    },
    {
     "name": "stdout",
     "output_type": "stream",
     "text": [
      "Total number valid graphs in the dataset:  404\n"
     ]
    },
    {
     "name": "stderr",
     "output_type": "stream",
     "text": [
      "\n"
     ]
    }
   ],
   "source": [
    "# For OGBA-CODE2 Label adjustment\n",
    "new_graphs = []\n",
    "for g in tqdm(dataset):\n",
    "    if (g.num_nodes <= 20):\n",
    "        labels = g.x[:, 0]\n",
    "        g.x = torch.nn.functional.one_hot(labels, 97).float()\n",
    "        rev1 = torch.stack((g.edge_index[1], g.edge_index[0]), 0)\n",
    "        g.edge_index = torch.cat((g.edge_index, rev1), -1)\n",
    "        new_graphs.append(g)\n",
    "\n",
    "graphs = new_graphs\n",
    "print(\"Total number valid graphs in the dataset: \", len(graphs))"
   ]
  },
  {
   "cell_type": "code",
   "execution_count": 32,
   "metadata": {},
   "outputs": [
    {
     "ename": "AttributeError",
     "evalue": "'Graph' object has no attribute 'node_offsets'",
     "output_type": "error",
     "traceback": [
      "\u001b[0;31m---------------------------------------------------------------------------\u001b[0m",
      "\u001b[0;31mAttributeError\u001b[0m                            Traceback (most recent call last)",
      "Cell \u001b[0;32mIn[32], line 1\u001b[0m\n\u001b[0;32m----> 1\u001b[0m graphs \u001b[38;5;241m=\u001b[39m \u001b[38;5;28mlist\u001b[39m(\u001b[38;5;28mmap\u001b[39m(functools\u001b[38;5;241m.\u001b[39mpartial(to_networkx, to_undirected\u001b[38;5;241m=\u001b[39m\u001b[38;5;28;01mTrue\u001b[39;00m, node_attrs \u001b[38;5;241m=\u001b[39m [\u001b[38;5;124m'\u001b[39m\u001b[38;5;124mx\u001b[39m\u001b[38;5;124m'\u001b[39m]), graphs))\n\u001b[1;32m      2\u001b[0m \u001b[38;5;28mprint\u001b[39m(\u001b[38;5;124m\"\u001b[39m\u001b[38;5;124mTotal number of graphs in the dataset: \u001b[39m\u001b[38;5;124m\"\u001b[39m, \u001b[38;5;28mlen\u001b[39m(graphs))\n",
      "File \u001b[0;32m~/miniconda3/envs/GED/lib/python3.12/site-packages/torch_geometric/utils/convert.py:146\u001b[0m, in \u001b[0;36mto_networkx\u001b[0;34m(data, node_attrs, edge_attrs, graph_attrs, to_undirected, remove_self_loops)\u001b[0m\n\u001b[1;32m    143\u001b[0m \u001b[38;5;28;01mfor\u001b[39;00m key \u001b[38;5;129;01min\u001b[39;00m graph_attrs \u001b[38;5;129;01mor\u001b[39;00m []:\n\u001b[1;32m    144\u001b[0m     G\u001b[38;5;241m.\u001b[39mgraph[key] \u001b[38;5;241m=\u001b[39m to_networkx_value(data[key])\n\u001b[0;32m--> 146\u001b[0m node_offsets \u001b[38;5;241m=\u001b[39m data\u001b[38;5;241m.\u001b[39mnode_offsets\n\u001b[1;32m    147\u001b[0m \u001b[38;5;28;01mfor\u001b[39;00m store \u001b[38;5;129;01min\u001b[39;00m data\u001b[38;5;241m.\u001b[39mnode_stores:\n\u001b[1;32m    148\u001b[0m     start \u001b[38;5;241m=\u001b[39m node_offsets[store\u001b[38;5;241m.\u001b[39m_key]\n",
      "\u001b[0;31mAttributeError\u001b[0m: 'Graph' object has no attribute 'node_offsets'"
     ]
    }
   ],
   "source": [
    "graphs = list(map(functools.partial(to_networkx, to_undirected=True, node_attrs = ['x']), graphs))\n",
    "print(\"Total number of graphs in the dataset: \", len(graphs))"
   ]
  },
  {
   "cell_type": "code",
   "execution_count": 35,
   "metadata": {},
   "outputs": [
    {
     "name": "stdout",
     "output_type": "stream",
     "text": [
      "Filtering isomorphic graphs...\n"
     ]
    },
    {
     "name": "stderr",
     "output_type": "stream",
     "text": [
      " 79%|███████▉  | 318/403 [09:09<02:19,  1.64s/it]"
     ]
    }
   ],
   "source": [
    "# random.shuffle(graphs)\n",
    "# graphs = graphs[:10000]\n",
    "# Filter Isomorphic graphs using nx.is_isomorphic\n",
    "non_iso_graphs = [graphs[0]]\n",
    "\n",
    "# def node_match(n1, n2):\n",
    "#     return all(x == y for x, y in zip(n1['x'], n2['x']))\n",
    "    \n",
    "\n",
    "if node_labeled:\n",
    "    node_match_fun = node_match\n",
    "else:\n",
    "    node_match_fun = None\n",
    "\n",
    "print(\"Filtering isomorphic graphs...\")\n",
    "for i in tqdm(range(1, len(graphs))):\n",
    "    for j in range(len(non_iso_graphs)):\n",
    "        pairs = (i,j)\n",
    "        if nx.is_isomorphic(graphs[i], graphs[j], node_match=node_match_fun):\n",
    "            #print(\"Graph \", i, \" is isomorphic to graph \", j)\n",
    "            break\n",
    "    else:\n",
    "        #print(\"Including graph \", i, \" in non_iso_graphs\")\n",
    "        non_iso_graphs.append(graphs[i])\n",
    "print(f\"Total number of non-isomorphic graphs: {len(non_iso_graphs)}\")"
   ]
  },
  {
   "cell_type": "code",
   "execution_count": null,
   "metadata": {},
   "outputs": [
    {
     "name": "stdout",
     "output_type": "stream",
     "text": [
      "Max graph size in train:  20\n"
     ]
    }
   ],
   "source": [
    "sizes = list(map(lambda x: x.number_of_nodes(), non_iso_graphs))\n",
    "print(\"Max graph size in train: \", max(sizes))"
   ]
  },
  {
   "cell_type": "code",
   "execution_count": null,
   "metadata": {},
   "outputs": [
    {
     "name": "stdout",
     "output_type": "stream",
     "text": [
      "Train: 227, Val: 75, Test: 77\n",
      "saved ogbg-code2 into ./data/ogbg-code2/train.pt\n",
      "saved ogbg-code2 into ./data/ogbg-code2/val.pt\n",
      "saved ogbg-code2 into ./data/ogbg-code2/test.pt\n"
     ]
    }
   ],
   "source": [
    "random.shuffle(non_iso_graphs)    # Shuffle the list of graphs\n",
    "train_size = int(0.6*len(non_iso_graphs))\n",
    "val_size = int(0.2*len(non_iso_graphs))\n",
    "test_size = len(non_iso_graphs) - train_size - val_size\n",
    "\n",
    "train_graphs = non_iso_graphs[:train_size]\n",
    "val_graphs = non_iso_graphs[train_size:train_size+val_size]\n",
    "test_graphs = non_iso_graphs[train_size+val_size:]\n",
    "print(f\"Train: {len(train_graphs)}, Val: {len(val_graphs)}, Test: {len(test_graphs)}\")\n",
    "\n",
    "\n",
    "# Dump Non-isomorphic Graphs \n",
    "train_data = []\n",
    "for graph in train_graphs:\n",
    "    data = from_networkx(graph)\n",
    "    train_data.append(data)\n",
    "torch.save(train_data, data_path + \"train.pt\")\n",
    "print(f\"saved {DATASET} into {data_path}train.pt\")\n",
    "\n",
    "val_data = []\n",
    "for graph in val_graphs:\n",
    "    data = from_networkx(graph)\n",
    "    val_data.append(data)\n",
    "torch.save(val_data, data_path + \"val.pt\")\n",
    "print(f\"saved {DATASET} into {data_path}val.pt\")\n",
    "\n",
    "test_data = []\n",
    "for graph in test_graphs:\n",
    "    data = from_networkx(graph)\n",
    "    test_data.append(data)\n",
    "# sizes = list(map(lambda x: x.num_nodes, test_data))\n",
    "# print(\"Max graph size in train: \", max(sizes))\n",
    "torch.save(test_data, data_path + \"test.pt\")\n",
    "print(f\"saved {DATASET} into {data_path}test.pt\")"
   ]
  },
  {
   "cell_type": "markdown",
   "metadata": {},
   "source": [
    "# STATS"
   ]
  },
  {
   "cell_type": "code",
   "execution_count": 218,
   "metadata": {},
   "outputs": [
    {
     "name": "stdout",
     "output_type": "stream",
     "text": [
      "Number of graphs in train, val, test:  954 318 318\n",
      "Max graph size in train: 20, val: 20, test: 20\n",
      "Max graph size in all data: 20\n"
     ]
    }
   ],
   "source": [
    "data_name = 'AIDS'\n",
    "train_data = torch.load(f\"./data/{data_name}/\" + \"train.pt\")\n",
    "val_data = torch.load(f\"./data/{data_name}/\" + \"val.pt\")\n",
    "test_data = torch.load(f\"./data/{data_name}/\" + \"test.pt\")\n",
    "\n",
    "train_max_gsize = max([g.num_nodes for g in train_data])\n",
    "val_max_gsize = max([g.num_nodes for g in val_data])\n",
    "test_max_gsize = max([g.num_nodes for g in test_data])\n",
    "\n",
    "print(\"Number of graphs in train, val, test: \", len(train_data), len(val_data), len(test_data))\n",
    "print(f\"Max graph size in train: {train_max_gsize}, val: {val_max_gsize}, test: {test_max_gsize}\")\n",
    "print(f\"Max graph size in all data: {max(train_max_gsize, val_max_gsize, test_max_gsize)}\")"
   ]
  },
  {
   "cell_type": "code",
   "execution_count": 227,
   "metadata": {},
   "outputs": [
    {
     "name": "stdout",
     "output_type": "stream",
     "text": [
      "Total number of graphs in the dataset:  379\n",
      "Number of graphs in train, val, test:  227 75 77\n",
      "Max graph size in train: 20, val: 20, test: 20\n",
      "Max graph size in all data: 20\n"
     ]
    }
   ],
   "source": [
    "data_name = 'ogbg-code2'\n",
    "train_data = torch.load(f\"./data/{data_name}/\" + \"train.pt\")\n",
    "val_data = torch.load(f\"./data/{data_name}/\" + \"val.pt\")\n",
    "test_data = torch.load(f\"./data/{data_name}/\" + \"test.pt\")\n",
    "\n",
    "train_max_gsize = max([g.num_nodes for g in train_data])\n",
    "val_max_gsize = max([g.num_nodes for g in val_data])\n",
    "test_max_gsize = max([g.num_nodes for g in test_data])\n",
    "\n",
    "print(\"Total number of graphs in the dataset: \", len(train_data) + len(val_data) + len(test_data))\n",
    "print(\"Number of graphs in train, val, test: \", len(train_data), len(val_data), len(test_data))\n",
    "print(f\"Max graph size in train: {train_max_gsize}, val: {val_max_gsize}, test: {test_max_gsize}\")\n",
    "print(f\"Max graph size in all data: {max(train_max_gsize, val_max_gsize, test_max_gsize)}\")"
   ]
  },
  {
   "cell_type": "code",
   "execution_count": null,
   "metadata": {},
   "outputs": [],
   "source": []
  }
 ],
 "metadata": {
  "kernelspec": {
   "display_name": "GED",
   "language": "python",
   "name": "python3"
  },
  "language_info": {
   "codemirror_mode": {
    "name": "ipython",
    "version": 3
   },
   "file_extension": ".py",
   "mimetype": "text/x-python",
   "name": "python",
   "nbconvert_exporter": "python",
   "pygments_lexer": "ipython3",
   "version": "3.1.0"
  }
 },
 "nbformat": 4,
 "nbformat_minor": 2
}
